{
 "cells": [
  {
   "cell_type": "code",
   "execution_count": null,
   "id": "e393da67",
   "metadata": {},
   "outputs": [],
   "source": [
    "import hashlib\n",
    "import matplotlib.pyplot as plt\n",
    "\n",
    "ALGORITHMS = ['sha1', 'sha256', 'sha512']\n",
    "\n",
    "def compute_hash(data, algorithm='sha256'):\n",
    "    hash_func = getattr(hashlib, algorithm)\n",
    "    hash_obj = hash_func()\n",
    "    hash_obj.update(data.encode('utf-8'))\n",
    "    return hash_obj.hexdigest()\n",
    "\n",
    "def compare_hashes(hash1, hash2):\n",
    "    # Convert hex hashes to binary strings\n",
    "    bin1 = bin(int(hash1, 16))[2:].zfill(len(hash1)*4)\n",
    "    bin2 = bin(int(hash2, 16))[2:].zfill(len(hash2)*4)\n",
    "    # Count differing bits\n",
    "    diffs = sum(c1 != c2 for c1, c2 in zip(bin1, bin2))\n",
    "    percent = diffs / len(bin1) * 100\n",
    "    return diffs, percent, bin1, bin2\n",
    "\n",
    "def visualize_avalanche(bin1, bin2):\n",
    "    colors = ['red' if b1 != b2 else 'green' for b1, b2 in zip(bin1, bin2)]\n",
    "    fig, ax = plt.subplots(figsize=(10,1))\n",
    "    ax.bar(range(len(bin1)), [1]*len(bin1), color=colors, width=1)\n",
    "    ax.set_axis_off()\n",
    "    ax.set_title(\"Avalanche Effect Visualization (Red=different bit)\")\n",
    "    plt.show()\n",
    "\n",
    "def main():\n",
    "    print(\"SHA Hash Algorithm Analyzer\")\n",
    "    text1 = input(\"Enter first input string: \")\n",
    "    text2 = input(\"Enter second input string (for avalanche test): \")\n",
    "\n",
    "    for algo in ALGORITHMS:\n",
    "        print(f\"\\nUsing {algo.upper()}:\")\n",
    "        h1 = compute_hash(text1, algo)\n",
    "        h2 = compute_hash(text2, algo)\n",
    "        print(f\"Hash 1: {h1}\")\n",
    "        print(f\"Hash 2: {h2}\")\n",
    "\n",
    "        diffs, percent, bin1, bin2 = compare_hashes(h1, h2)\n",
    "        print(f\"Differing bits: {diffs} ({percent:.2f}%)\")\n",
    "\n",
    "        visualize = input(\"Visualize bit differences? (y/n): \").lower()\n",
    "        if visualize == 'y':\n",
    "            visualize_avalanche(bin1, bin2)\n",
    "\n",
    "if __name__ == \"__main__\":\n",
    "    main()\n"
   ]
  }
 ],
 "metadata": {
  "kernelspec": {
   "display_name": "Python 3",
   "language": "python",
   "name": "python3"
  },
  "language_info": {
   "name": "python",
   "version": "3.10.8"
  }
 },
 "nbformat": 4,
 "nbformat_minor": 5
}
